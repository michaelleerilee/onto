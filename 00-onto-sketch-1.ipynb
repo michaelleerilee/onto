{
 "cells": [
  {
   "cell_type": "markdown",
   "id": "b652bf8a",
   "metadata": {},
   "source": [
    "# 00 Onto Sketch 1\n",
    "Load an ontology and start to set up tree.\n",
    "\n",
    "## Reference\n",
    "- [Owlready2 docs](https://owlready2.readthedocs.io/en/latest/index.html)\n",
    "- [Anytree docs](https://anytree.readthedocs.io/en/2.8.0/index.html)"
   ]
  },
  {
   "cell_type": "code",
   "execution_count": 1,
   "id": "ca5c98dc",
   "metadata": {},
   "outputs": [],
   "source": [
    "from owlready2 import *\n",
    "import itertools\n",
    "from anytree import Node, RenderTree"
   ]
  },
  {
   "cell_type": "code",
   "execution_count": 2,
   "id": "e5e09d72",
   "metadata": {},
   "outputs": [],
   "source": [
    "onto = get_ontology(\"file://owlapi.xrdf\").load()"
   ]
  },
  {
   "cell_type": "code",
   "execution_count": 3,
   "id": "7771b9c5",
   "metadata": {},
   "outputs": [
    {
     "data": {
      "text/plain": [
       "[AllDisjoint([stateTimeFrequency.NonStationary, stateTimeFrequency.Stationary]),\n",
       " AllDisjoint([stateTimeFrequency.Interrupted, stateTimeFrequency.Uninterrupted]),\n",
       " AllDisjoint([stateTimeFrequency.Cyclic, stateTimeFrequency.Secular]),\n",
       " AllDisjoint([stateThermodynamic.Adiabatic, stateThermodynamic.Superadiabatic]),\n",
       " AllDisjoint([stateThermodynamic.Adiabatic, stateThermodynamic.Diabatic])]"
      ]
     },
     "execution_count": 3,
     "metadata": {},
     "output_type": "execute_result"
    }
   ],
   "source": [
    "list(itertools.islice(onto.different_individuals(),5))"
   ]
  },
  {
   "cell_type": "code",
   "execution_count": 4,
   "id": "e06c3d81",
   "metadata": {},
   "outputs": [
    {
     "data": {
      "text/plain": [
       "[matrCompound.Water,\n",
       " statePhysical.Gas,\n",
       " statePhysical.Dissolved,\n",
       " statePhysical.Neutral,\n",
       " statePhysical.Solid]"
      ]
     },
     "execution_count": 4,
     "metadata": {},
     "output_type": "execute_result"
    }
   ],
   "source": [
    "list(itertools.islice(onto.individuals(),5))"
   ]
  },
  {
   "cell_type": "markdown",
   "id": "f577e022",
   "metadata": {},
   "source": [
    "## Loading or iterating over entities in the ontology\n",
    "\n",
    "Review [accessing the content of the ontology](https://owlready2.readthedocs.io/en/latest/onto.html#accessing-the-content-of-an-ontology)."
   ]
  },
  {
   "cell_type": "code",
   "execution_count": 5,
   "id": "222c4983",
   "metadata": {},
   "outputs": [],
   "source": [
    "slice = list(itertools.islice(onto.individuals(),5))"
   ]
  },
  {
   "cell_type": "code",
   "execution_count": 6,
   "id": "86f8688a",
   "metadata": {},
   "outputs": [
    {
     "data": {
      "text/plain": [
       "matrCompound.Water"
      ]
     },
     "execution_count": 6,
     "metadata": {},
     "output_type": "execute_result"
    }
   ],
   "source": [
    "slice[0]"
   ]
  },
  {
   "cell_type": "markdown",
   "id": "68bb52bd",
   "metadata": {},
   "source": [
    "See [Introspecting individuals](https://owlready2.readthedocs.io/en/latest/class.html#introspecting-individuals)."
   ]
  },
  {
   "cell_type": "code",
   "execution_count": 7,
   "id": "63249b3a",
   "metadata": {},
   "outputs": [
    {
     "data": {
      "text/plain": [
       "{rdf-schema.label}"
      ]
     },
     "execution_count": 7,
     "metadata": {},
     "output_type": "execute_result"
    }
   ],
   "source": [
    "slice[0].get_properties()"
   ]
  },
  {
   "cell_type": "code",
   "execution_count": 8,
   "id": "386ff15e",
   "metadata": {},
   "outputs": [
    {
     "name": "stdout",
     "output_type": "stream",
     "text": [
      ".label == water\n"
     ]
    }
   ],
   "source": [
    "for p in slice[0].get_properties():\n",
    "    for v in p[slice[0]]:\n",
    "        print(\".%s == %s\" % (p.python_name, v))"
   ]
  },
  {
   "cell_type": "code",
   "execution_count": 12,
   "id": "e0cbbb8d",
   "metadata": {},
   "outputs": [
    {
     "data": {
      "text/plain": [
       "owlready2.namespace.Ontology"
      ]
     },
     "execution_count": 12,
     "metadata": {},
     "output_type": "execute_result"
    }
   ],
   "source": [
    "type(onto)"
   ]
  },
  {
   "cell_type": "markdown",
   "id": "05906803",
   "metadata": {},
   "source": [
    "## Note\n",
    "Looks like getting info from ontology is pretty easy. Constructing a new tree using  _anytree_ requires iterating over the elements of the ontology. Seems like everything is there, it's just a matter of learning the interface and how to make sure one is dealing with the correct \"objects\" so that we don't inadvertently duplicate entities/terms."
   ]
  },
  {
   "cell_type": "code",
   "execution_count": 16,
   "id": "d910b974",
   "metadata": {},
   "outputs": [],
   "source": [
    "classes = list(itertools.islice(onto.classes(),5))"
   ]
  },
  {
   "cell_type": "code",
   "execution_count": 17,
   "id": "937d3e7c",
   "metadata": {},
   "outputs": [],
   "source": [
    "c = classes[0]"
   ]
  },
  {
   "cell_type": "code",
   "execution_count": 22,
   "id": "920e757a",
   "metadata": {},
   "outputs": [
    {
     "data": {
      "text/plain": [
       "phen.Phenomena"
      ]
     },
     "execution_count": 22,
     "metadata": {},
     "output_type": "execute_result"
    }
   ],
   "source": [
    "c"
   ]
  },
  {
   "cell_type": "code",
   "execution_count": 19,
   "id": "2d208327",
   "metadata": {},
   "outputs": [
    {
     "data": {
      "text/plain": [
       "{owl.Thing, phen.Phenomena}"
      ]
     },
     "execution_count": 19,
     "metadata": {},
     "output_type": "execute_result"
    }
   ],
   "source": [
    "c.ancestors()"
   ]
  },
  {
   "cell_type": "code",
   "execution_count": 21,
   "id": "fe95d2e3",
   "metadata": {},
   "outputs": [
    {
     "data": {
      "text/plain": [
       "[phenFluidTransport.Transport,\n",
       " phen.AirSeaExchange,\n",
       " phen.AtmosphereOceanExchange,\n",
       " phen.AtmosphereLandExchange,\n",
       " phen.DynamicalPhenomena,\n",
       " phen.Event,\n",
       " phen.Occurrence,\n",
       " phen.Flash,\n",
       " phen.PlanetaryPhenomena,\n",
       " phen.Precipitation,\n",
       " phenFluidTransport.Convection,\n",
       " phenFluidTransport.Advection,\n",
       " phenBiol.BiologicalPhenomena,\n",
       " phenEcology.EcologicalPhenomena,\n",
       " phenElecMag.MagneticFieldPhenomena,\n",
       " phenEnvirImpact.EnvironmentalImpact,\n",
       " phenFluidDynamics.Cell,\n",
       " phenFluidDynamics.FluidPhenomena,\n",
       " phenFluidTransport.Buoyancy,\n",
       " phenFluidTransport.Deposition,\n",
       " phenGeolGeomorphology.Slide,\n",
       " phenHelio.HeliosphericPhenomena,\n",
       " phenHelio.InterplanetaryPhenomena,\n",
       " phenSolid.SolidPhenomena,\n",
       " phenStar.StellarPhenomena,\n",
       " phenSystem.SystemPhenomena,\n",
       " phenWave.WavePhenomena]"
      ]
     },
     "execution_count": 21,
     "metadata": {},
     "output_type": "execute_result"
    }
   ],
   "source": [
    "list(c.subclasses())"
   ]
  },
  {
   "cell_type": "code",
   "execution_count": 29,
   "id": "2c408dc1",
   "metadata": {},
   "outputs": [
    {
     "data": {
      "text/plain": [
       "[owl.Thing]"
      ]
     },
     "execution_count": 29,
     "metadata": {},
     "output_type": "execute_result"
    }
   ],
   "source": [
    "c.is_a"
   ]
  },
  {
   "cell_type": "code",
   "execution_count": 31,
   "id": "8f87dbb7",
   "metadata": {},
   "outputs": [
    {
     "name": "stderr",
     "output_type": "stream",
     "text": [
      "* Owlready2 * Warning: ignoring cyclic subclass of/subproperty of, involving:\n",
      "  http://sweetontology.net/propEnergyFlux/RadiantFlux\n",
      "  http://sweetontology.net/propEnergyFlux/RadiativeForcing\n",
      "\n"
     ]
    },
    {
     "data": {
      "text/plain": [
       "2148"
      ]
     },
     "execution_count": 31,
     "metadata": {},
     "output_type": "execute_result"
    }
   ],
   "source": [
    "individuals = list(onto.individuals()); len(individuals)"
   ]
  },
  {
   "cell_type": "code",
   "execution_count": 30,
   "id": "64a039e4",
   "metadata": {},
   "outputs": [
    {
     "data": {
      "text/plain": [
       "[]"
      ]
     },
     "execution_count": 30,
     "metadata": {},
     "output_type": "execute_result"
    }
   ],
   "source": [
    "onto.get_instances_of(c)"
   ]
  }
 ],
 "metadata": {
  "kernelspec": {
   "display_name": "Python 3",
   "language": "python",
   "name": "python3"
  },
  "language_info": {
   "codemirror_mode": {
    "name": "ipython",
    "version": 3
   },
   "file_extension": ".py",
   "mimetype": "text/x-python",
   "name": "python",
   "nbconvert_exporter": "python",
   "pygments_lexer": "ipython3",
   "version": "3.9.2"
  }
 },
 "nbformat": 4,
 "nbformat_minor": 5
}
